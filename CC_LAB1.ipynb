{
  "nbformat": 4,
  "nbformat_minor": 0,
  "metadata": {
    "colab": {
      "provenance": []
    },
    "kernelspec": {
      "name": "python3",
      "display_name": "Python 3"
    },
    "language_info": {
      "name": "python"
    }
  },
  "cells": [
    {
      "cell_type": "code",
      "source": [
        "print(\"Balkaran Singh\")\n",
        "print(\"Balkaran Singh\")\n",
        "print(\"Balkaran Singh\")"
      ],
      "metadata": {
        "colab": {
          "base_uri": "https://localhost:8080/"
        },
        "id": "eH3FNI9MEsFb",
        "outputId": "ccb5ec2f-ab85-4d09-89b4-5f3b18857cc5"
      },
      "execution_count": 1,
      "outputs": [
        {
          "output_type": "stream",
          "name": "stdout",
          "text": [
            "Balkaran Singh\n",
            "Balkaran Singh\n",
            "Balkaran Singh\n"
          ]
        }
      ]
    },
    {
      "cell_type": "code",
      "execution_count": 2,
      "metadata": {
        "colab": {
          "base_uri": "https://localhost:8080/"
        },
        "id": "cfJmOGfJQwfN",
        "outputId": "9d28cc81-1a11-494c-95b0-593834c9642a"
      },
      "outputs": [
        {
          "output_type": "stream",
          "name": "stdout",
          "text": [
            "10 + 20 + 30 ---> 60\n"
          ]
        }
      ],
      "source": [
        "a=10\n",
        "b=20\n",
        "c=30\n",
        "d=a+b+c\n",
        "print(a,\"+\",b,\"+\",c,\"--->\",d)"
      ]
    },
    {
      "cell_type": "code",
      "source": [
        "a= int(input('Enter First Number: '))\n",
        "b= int(input('Enter Second Number: '))\n",
        "c= a+b\n",
        "print (a, \" + \", b, \" --> \", c)"
      ],
      "metadata": {
        "colab": {
          "base_uri": "https://localhost:8080/"
        },
        "id": "0HvncyAfTwPK",
        "outputId": "22d454a2-36be-4f30-a3a6-68228cb565d8"
      },
      "execution_count": null,
      "outputs": [
        {
          "output_type": "stream",
          "name": "stdout",
          "text": [
            "Enter First Number: 5\n",
            "Enter Second Number: 10\n",
            "5  +  10  -->  15\n"
          ]
        }
      ]
    },
    {
      "cell_type": "code",
      "source": [
        "i=1\n",
        "while i <= 10:\n",
        "\tprint (i)\n",
        "\ti = i+1"
      ],
      "metadata": {
        "colab": {
          "base_uri": "https://localhost:8080/"
        },
        "id": "kj61ashIUuO5",
        "outputId": "8aa2b240-6596-427c-f635-ce24a3e9ff0a"
      },
      "execution_count": null,
      "outputs": [
        {
          "output_type": "stream",
          "name": "stdout",
          "text": [
            "1\n",
            "2\n",
            "3\n",
            "4\n",
            "5\n",
            "6\n",
            "7\n",
            "8\n",
            "9\n",
            "10\n"
          ]
        }
      ]
    },
    {
      "cell_type": "code",
      "source": [
        "list(range(10,20,2))"
      ],
      "metadata": {
        "colab": {
          "base_uri": "https://localhost:8080/"
        },
        "id": "8PDq7LlnU5q4",
        "outputId": "c18d7d7a-8f2b-477c-b2d7-d137cb2ab055"
      },
      "execution_count": null,
      "outputs": [
        {
          "output_type": "execute_result",
          "data": {
            "text/plain": [
              "[10, 12, 14, 16, 18]"
            ]
          },
          "metadata": {},
          "execution_count": 5
        }
      ]
    },
    {
      "cell_type": "code",
      "source": [
        "for i in range(10,20,2):\n",
        "  print(i)"
      ],
      "metadata": {
        "colab": {
          "base_uri": "https://localhost:8080/"
        },
        "id": "RDWS3KfwVo8Q",
        "outputId": "4851cc1f-e1fa-4be4-e673-585b733b48c1"
      },
      "execution_count": null,
      "outputs": [
        {
          "output_type": "stream",
          "name": "stdout",
          "text": [
            "10\n",
            "12\n",
            "14\n",
            "16\n",
            "18\n"
          ]
        }
      ]
    },
    {
      "cell_type": "code",
      "source": [
        "n=int(input(\"Enter a number: \"))\n",
        "print(\"Table of \", n ,\" is -> \")\n",
        "print()\n",
        "for i in range(1,11):\n",
        "  print(n , \" * \", i ,\"  =  \" , i*n)"
      ],
      "metadata": {
        "colab": {
          "base_uri": "https://localhost:8080/"
        },
        "id": "I2ynjitUF2MG",
        "outputId": "9c3b72d3-be16-4850-a591-e767a6fe6bae"
      },
      "execution_count": 5,
      "outputs": [
        {
          "output_type": "stream",
          "name": "stdout",
          "text": [
            "Enter a number: 11\n",
            "Table of  11  is -> \n",
            "\n",
            "11  *  1   =   11\n",
            "11  *  2   =   22\n",
            "11  *  3   =   33\n",
            "11  *  4   =   44\n",
            "11  *  5   =   55\n",
            "11  *  6   =   66\n",
            "11  *  7   =   77\n",
            "11  *  8   =   88\n",
            "11  *  9   =   99\n",
            "11  *  10   =   110\n"
          ]
        }
      ]
    },
    {
      "cell_type": "code",
      "source": [
        "a = int(input(\"Enter First No: \"))\n",
        "b = int(input(\"Enter Second No: \"))\n",
        "if  a > b:\n",
        "\tprint (a,\" > \",b)\n",
        "else:\n",
        "\tprint (a,\" < \",b)"
      ],
      "metadata": {
        "colab": {
          "base_uri": "https://localhost:8080/"
        },
        "id": "Xk-TzmN9V7AA",
        "outputId": "f42cfcad-c1de-4fae-a1b5-7fb92fd10cba"
      },
      "execution_count": null,
      "outputs": [
        {
          "output_type": "stream",
          "name": "stdout",
          "text": [
            "Enter First No: 5\n",
            "Enter Second No: 10\n",
            "5  <  10\n"
          ]
        }
      ]
    },
    {
      "cell_type": "code",
      "source": [
        "a=int(input(\"Enter the first number: \"))\n",
        "b=int(input(\"Enter the second number: \"))\n",
        "c=int(input(\"Enter the third number: \"))\n",
        "max1=max(a,b)\n",
        "max_ele=max(max1,c)\n",
        "print(\"The largest number is: \",max_ele)"
      ],
      "metadata": {
        "colab": {
          "base_uri": "https://localhost:8080/"
        },
        "id": "ca4DBvT3GWGY",
        "outputId": "191704bc-06ea-4401-eebf-617eb61891dd"
      },
      "execution_count": 6,
      "outputs": [
        {
          "output_type": "stream",
          "name": "stdout",
          "text": [
            "Enter the first number: 3\n",
            "Enter the second number: 5\n",
            "Enter the third number: 7\n",
            "The largest number is:  7\n"
          ]
        }
      ]
    },
    {
      "cell_type": "code",
      "source": [
        "def add(a,b):\n",
        "\tc=a+b\n",
        "\treturn c\n",
        "\n",
        "add(10,20)"
      ],
      "metadata": {
        "colab": {
          "base_uri": "https://localhost:8080/"
        },
        "id": "pOAGtK-wWUSn",
        "outputId": "7cb21fb1-4359-4ab8-e353-6627bb51ff37"
      },
      "execution_count": null,
      "outputs": [
        {
          "output_type": "execute_result",
          "data": {
            "text/plain": [
              "30"
            ]
          },
          "metadata": {},
          "execution_count": 11
        }
      ]
    },
    {
      "cell_type": "code",
      "source": [
        "def isprime(n):\n",
        "  for i in range(2,n//2+1):\n",
        "    if n%i == 0:\n",
        "      return 0\n",
        "    return 1\n",
        "\n",
        "isprime(20)"
      ],
      "metadata": {
        "colab": {
          "base_uri": "https://localhost:8080/"
        },
        "id": "maz0SvH9Xaf_",
        "outputId": "41430f66-242a-45a5-a07c-ed397bb116ac"
      },
      "execution_count": null,
      "outputs": [
        {
          "output_type": "execute_result",
          "data": {
            "text/plain": [
              "0"
            ]
          },
          "metadata": {},
          "execution_count": 12
        }
      ]
    },
    {
      "cell_type": "code",
      "source": [
        "#Adds all prime numbers from 1 to the given limit\n",
        "n=int(input(\"Enter the ending limit: \"))\n",
        "sum=0\n",
        "for i in range(1,n+1):\n",
        "  f=0\n",
        "  for j in range(2,i//2+1):\n",
        "    if(i%j==0):\n",
        "      f=1\n",
        "  if(f==0):\n",
        "    sum=sum+i\n",
        "print(\"The sum is : \",sum)"
      ],
      "metadata": {
        "colab": {
          "base_uri": "https://localhost:8080/"
        },
        "id": "xkCAp_-aGovL",
        "outputId": "17a55e8e-38ca-42ee-cfe7-85e74c1de494"
      },
      "execution_count": 7,
      "outputs": [
        {
          "output_type": "stream",
          "name": "stdout",
          "text": [
            "Enter the ending limit: 18\n",
            "The sum is :  59\n"
          ]
        }
      ]
    },
    {
      "cell_type": "code",
      "source": [
        "#Function to add all prime numbers from 1 to the given limit\n",
        "def sum_of_prime_numbers(n):\n",
        "  s=0\n",
        "  for i in range(1,n+1):\n",
        "    f=0\n",
        "    for j in range (2,i//2 +1):\n",
        "      if i%j==0:\n",
        "        f=1\n",
        "    if(f==0):\n",
        "      s=s+i\n",
        "  return s\n",
        "\n",
        "n=int(input(\"Enter the ending limit: \"))\n",
        "sum=sum_of_prime_numbers(n)\n",
        "print(\"The sum is : \",sum)"
      ],
      "metadata": {
        "colab": {
          "base_uri": "https://localhost:8080/"
        },
        "id": "WxTi2NKgG27f",
        "outputId": "8387e547-8ca9-41de-dae9-7e74232a5334"
      },
      "execution_count": 8,
      "outputs": [
        {
          "output_type": "stream",
          "name": "stdout",
          "text": [
            "Enter the ending limit: 18\n",
            "The sum is :  59\n"
          ]
        }
      ]
    },
    {
      "cell_type": "code",
      "source": [
        "import math as m\n",
        "m.sqrt(324)"
      ],
      "metadata": {
        "colab": {
          "base_uri": "https://localhost:8080/"
        },
        "id": "tHGBHhoUYq7d",
        "outputId": "ff76c5d5-eeed-47ac-db1e-c6fe2d1825a2"
      },
      "execution_count": null,
      "outputs": [
        {
          "output_type": "execute_result",
          "data": {
            "text/plain": [
              "18.0"
            ]
          },
          "metadata": {},
          "execution_count": 13
        }
      ]
    }
  ]
}