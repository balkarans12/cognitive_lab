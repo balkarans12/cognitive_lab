{
  "nbformat": 4,
  "nbformat_minor": 0,
  "metadata": {
    "colab": {
      "provenance": []
    },
    "kernelspec": {
      "name": "python3",
      "display_name": "Python 3"
    },
    "language_info": {
      "name": "python"
    }
  },
  "cells": [
    {
      "cell_type": "markdown",
      "source": [
        "Assignment 1.1: WAP to print your name three times"
      ],
      "metadata": {
        "id": "85CeSeG1yad3"
      }
    },
    {
      "cell_type": "code",
      "source": [
        "print(\"Balkaran Singh\")\n",
        "print(\"Balkaran Singh\")\n",
        "print(\"Balkaran Singh\")"
      ],
      "metadata": {
        "colab": {
          "base_uri": "https://localhost:8080/"
        },
        "id": "eH3FNI9MEsFb",
        "outputId": "ccb5ec2f-ab85-4d09-89b4-5f3b18857cc5"
      },
      "execution_count": null,
      "outputs": [
        {
          "output_type": "stream",
          "name": "stdout",
          "text": [
            "Balkaran Singh\n",
            "Balkaran Singh\n",
            "Balkaran Singh\n"
          ]
        }
      ]
    },
    {
      "cell_type": "markdown",
      "source": [
        "Assignment 2.1: WAP to add three numbers and print the result."
      ],
      "metadata": {
        "id": "jm3eJ7b0yemt"
      }
    },
    {
      "cell_type": "code",
      "execution_count": null,
      "metadata": {
        "colab": {
          "base_uri": "https://localhost:8080/"
        },
        "id": "cfJmOGfJQwfN",
        "outputId": "9d28cc81-1a11-494c-95b0-593834c9642a"
      },
      "outputs": [
        {
          "output_type": "stream",
          "name": "stdout",
          "text": [
            "10 + 20 + 30 ---> 60\n"
          ]
        }
      ],
      "source": [
        "a=10\n",
        "b=20\n",
        "c=30\n",
        "d=a+b+c\n",
        "print(a,\"+\",b,\"+\",c,\"--->\",d)"
      ]
    },
    {
      "cell_type": "markdown",
      "source": [
        "Assignment 2.2: WAP to concatinate three strings and print the result."
      ],
      "metadata": {
        "id": "eyoLqub0ykGy"
      }
    },
    {
      "cell_type": "code",
      "source": [
        "str1 = input(\"Enter the first string: \")\n",
        "str2 = input(\"Enter the second string: \")\n",
        "str3 = input(\"Enter the third string: \")\n",
        "result = str1 + str2 + str3\n",
        "print(\"The concatenated string is: \",result)"
      ],
      "metadata": {
        "colab": {
          "base_uri": "https://localhost:8080/"
        },
        "id": "Yj8jMR5jyjty",
        "outputId": "12f88aa4-b94d-4397-81d6-ef6b732e945f"
      },
      "execution_count": 1,
      "outputs": [
        {
          "output_type": "stream",
          "name": "stdout",
          "text": [
            "Enter the first string: hi\n",
            "Enter the second string: hello\n",
            "Enter the third string: welcome\n",
            "The concatenated string is:  hihellowelcome\n"
          ]
        }
      ]
    },
    {
      "cell_type": "markdown",
      "source": [
        "Assignment 4.1: WAP to print the table of 7, 9."
      ],
      "metadata": {
        "id": "PFh0Q7PBzYe2"
      }
    },
    {
      "cell_type": "code",
      "source": [
        "print(\"table of 7 is -> \")\n",
        "print()\n",
        "for i in range(1,11):\n",
        "  print(\"7 * \", i ,\"  =  \" , i*7)\n",
        "print()\n",
        "print(\"table of 9 is -> \")\n",
        "print()\n",
        "for i in range(1,11):\n",
        "  print(\"9 * \", i ,\"  =  \" , i*9)"
      ],
      "metadata": {
        "colab": {
          "base_uri": "https://localhost:8080/"
        },
        "id": "xdT26u1Uzap5",
        "outputId": "48ab1c92-239d-4e61-dddb-078312dea0ed"
      },
      "execution_count": 2,
      "outputs": [
        {
          "output_type": "stream",
          "name": "stdout",
          "text": [
            "table of 7 is -> \n",
            "\n",
            "7 *  1   =   7\n",
            "7 *  2   =   14\n",
            "7 *  3   =   21\n",
            "7 *  4   =   28\n",
            "7 *  5   =   35\n",
            "7 *  6   =   42\n",
            "7 *  7   =   49\n",
            "7 *  8   =   56\n",
            "7 *  9   =   63\n",
            "7 *  10   =   70\n",
            "\n",
            "table of 9 is -> \n",
            "\n",
            "9 *  1   =   9\n",
            "9 *  2   =   18\n",
            "9 *  3   =   27\n",
            "9 *  4   =   36\n",
            "9 *  5   =   45\n",
            "9 *  6   =   54\n",
            "9 *  7   =   63\n",
            "9 *  8   =   72\n",
            "9 *  9   =   81\n",
            "9 *  10   =   90\n"
          ]
        }
      ]
    },
    {
      "cell_type": "markdown",
      "source": [
        "Assignment 4.2: WAP to print the table of n and n is given by user."
      ],
      "metadata": {
        "id": "se7Ofv-EzgJM"
      }
    },
    {
      "cell_type": "code",
      "source": [
        "n=int(input(\"Enter a number: \"))\n",
        "print(\"Table of \", n ,\" is -> \")\n",
        "print()\n",
        "for i in range(1,11):\n",
        "  print(n , \" * \", i ,\"  =  \" , i*n)"
      ],
      "metadata": {
        "colab": {
          "base_uri": "https://localhost:8080/"
        },
        "id": "7DxX0L73zg6r",
        "outputId": "4e1e48fd-d652-4fb2-ab1c-2545719f2f28"
      },
      "execution_count": 3,
      "outputs": [
        {
          "output_type": "stream",
          "name": "stdout",
          "text": [
            "Enter a number: 5\n",
            "Table of  5  is -> \n",
            "\n",
            "5  *  1   =   5\n",
            "5  *  2   =   10\n",
            "5  *  3   =   15\n",
            "5  *  4   =   20\n",
            "5  *  5   =   25\n",
            "5  *  6   =   30\n",
            "5  *  7   =   35\n",
            "5  *  8   =   40\n",
            "5  *  9   =   45\n",
            "5  *  10   =   50\n"
          ]
        }
      ]
    },
    {
      "cell_type": "markdown",
      "source": [
        "Assignment 4.3: WAP to add all the numbers from 1 to n and n is given by user."
      ],
      "metadata": {
        "id": "mDHDEsnCzms_"
      }
    },
    {
      "cell_type": "code",
      "source": [
        "n=int(input(\"Enter the ending limit: \"))\n",
        "sum=0\n",
        "for i in range(1,n+1):\n",
        "  sum=sum+i\n",
        "print(f\"The sum of first {n} natural numbers are: \",sum)"
      ],
      "metadata": {
        "colab": {
          "base_uri": "https://localhost:8080/"
        },
        "id": "XFIvTi4lz8eQ",
        "outputId": "6c600b32-a471-4cbd-bac8-5b10153594db"
      },
      "execution_count": 6,
      "outputs": [
        {
          "output_type": "stream",
          "name": "stdout",
          "text": [
            "Enter the ending limit: 16\n",
            "The sum of first 16 natural numbers are:  136\n"
          ]
        }
      ]
    },
    {
      "cell_type": "markdown",
      "source": [
        "Assingment 5.1: WAP to find max amoung three numbers and input from user. [Try max() function]"
      ],
      "metadata": {
        "id": "xPtjSrdi0L4L"
      }
    },
    {
      "cell_type": "code",
      "source": [
        "num1 = float(input(\"Enter the first number: \"))\n",
        "num2 = float(input(\"Enter the second number: \"))\n",
        "num3 = float(input(\"Enter the third number: \"))\n",
        "maximum = max(num1, num2, num3)\n",
        "print(f\"The maximum among the three numbers is: {maximum}\")"
      ],
      "metadata": {
        "colab": {
          "base_uri": "https://localhost:8080/"
        },
        "id": "Nv8btyMs0O2k",
        "outputId": "3e35ddd0-b87a-4e60-d08d-6a3f47477881"
      },
      "execution_count": 7,
      "outputs": [
        {
          "output_type": "stream",
          "name": "stdout",
          "text": [
            "Enter the first number: 7\n",
            "Enter the second number: 8\n",
            "Enter the third number: 3\n",
            "The maximum among the three numbers is: 8.0\n"
          ]
        }
      ]
    },
    {
      "cell_type": "markdown",
      "source": [
        "Assingment 5.2: WAP to add all numbers divisible by 7 and 9 from 1 to n and n is given by the user."
      ],
      "metadata": {
        "id": "pWXFPq-T0b2m"
      }
    },
    {
      "cell_type": "code",
      "source": [
        "n=int(input(\"Enter the ending limit: \"))\n",
        "sum=0\n",
        "for i in range(1,n+1):\n",
        "  if(i% 7==0 and i%9==0):\n",
        "    sum=sum+i\n",
        "print(\"The sum is : \",sum)"
      ],
      "metadata": {
        "colab": {
          "base_uri": "https://localhost:8080/"
        },
        "id": "OKwNWSra0eb8",
        "outputId": "ff98dd32-4a09-4437-9dde-398be8933944"
      },
      "execution_count": 9,
      "outputs": [
        {
          "output_type": "stream",
          "name": "stdout",
          "text": [
            "Enter the ending limit: 150\n",
            "The sum is :  189\n"
          ]
        }
      ]
    },
    {
      "cell_type": "markdown",
      "source": [
        "Assingment 5.3: WAP to add all prime numbers from 1 to n and n is given by the user."
      ],
      "metadata": {
        "id": "qDLowmPd0qST"
      }
    },
    {
      "cell_type": "code",
      "source": [
        "n=int(input(\"Enter the ending limit: \"))\n",
        "sum=0\n",
        "for i in range(1,n+1):\n",
        "  f=0\n",
        "  for j in range(2,i//2+1):\n",
        "    if(i%j==0):\n",
        "      f=1\n",
        "  if(f==0):\n",
        "    sum=sum+i\n",
        "print(\"The sum is : \",sum)"
      ],
      "metadata": {
        "colab": {
          "base_uri": "https://localhost:8080/"
        },
        "id": "fR9g1N7Y0ukB",
        "outputId": "44135752-f82b-4b11-a72f-b22fe9b05821"
      },
      "execution_count": 10,
      "outputs": [
        {
          "output_type": "stream",
          "name": "stdout",
          "text": [
            "Enter the ending limit: 150\n",
            "The sum is :  2277\n"
          ]
        }
      ]
    },
    {
      "cell_type": "markdown",
      "source": [
        "Assingment 6.1: WAP using function that add all odd numbers from 1 to n, n is given by the user."
      ],
      "metadata": {
        "id": "KUb8tyEj06Ak"
      }
    },
    {
      "cell_type": "code",
      "source": [
        "def sum_of_odd_numbers(n):\n",
        "  s=0\n",
        "  for i in range(1,n+1):\n",
        "    if(i%2!=0):\n",
        "      s=s+i\n",
        "  return s\n",
        "\n",
        "n=int(input(\"Enter the ending limit: \"))\n",
        "sum=sum_of_odd_numbers(n)\n",
        "print(\"The sum is : \",sum)"
      ],
      "metadata": {
        "colab": {
          "base_uri": "https://localhost:8080/"
        },
        "id": "MaQr4UYe08cz",
        "outputId": "799cde9c-ede0-49bb-8e91-c623d1bbbe53"
      },
      "execution_count": 11,
      "outputs": [
        {
          "output_type": "stream",
          "name": "stdout",
          "text": [
            "Enter the ending limit: 150\n",
            "The sum is :  5625\n"
          ]
        }
      ]
    },
    {
      "cell_type": "markdown",
      "source": [
        "Assingment 6.2: WAP using function that add all prime numbers from 1 to n, n given by the user."
      ],
      "metadata": {
        "id": "bWcqB-Ve1InO"
      }
    },
    {
      "cell_type": "code",
      "source": [
        "def sum_of_prime_numbers(n):\n",
        "  s=0\n",
        "  for i in range(1,n+1):\n",
        "    f=0\n",
        "    for j in range (2,i//2 +1):\n",
        "      if i%j==0:\n",
        "        f=1\n",
        "    if(f==0):\n",
        "      s=s+i\n",
        "  return s\n",
        "\n",
        "n=int(input(\"Enter the ending limit: \"))\n",
        "sum=sum_of_prime_numbers(n)\n",
        "print(\"The sum is : \",sum)"
      ],
      "metadata": {
        "colab": {
          "base_uri": "https://localhost:8080/"
        },
        "id": "9kYbUlQD1R-t",
        "outputId": "a5064eb9-b338-4774-9572-453771f858d7"
      },
      "execution_count": 13,
      "outputs": [
        {
          "output_type": "stream",
          "name": "stdout",
          "text": [
            "Enter the ending limit: 150\n",
            "The sum is :  2277\n"
          ]
        }
      ]
    }
  ]
}