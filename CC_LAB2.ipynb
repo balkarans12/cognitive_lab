{
  "nbformat": 4,
  "nbformat_minor": 0,
  "metadata": {
    "colab": {
      "provenance": []
    },
    "kernelspec": {
      "name": "python3",
      "display_name": "Python 3"
    },
    "language_info": {
      "name": "python"
    }
  },
  "cells": [
    {
      "cell_type": "code",
      "execution_count": null,
      "metadata": {
        "colab": {
          "base_uri": "https://localhost:8080/"
        },
        "id": "TwJYShmkMkCG",
        "outputId": "86d3a320-1cc9-400f-e6dc-82950bda29a7"
      },
      "outputs": [
        {
          "output_type": "stream",
          "name": "stdout",
          "text": [
            "Cognitive Assignment 2\n"
          ]
        }
      ],
      "source": [
        "print('Cognitive Assignment 2')"
      ]
    },
    {
      "cell_type": "markdown",
      "source": [
        "1. Create a List L that is defined as= [10, 20, 30, 40, 50, 60, 70, 80].\n",
        "i. WAP to add 200 and 300 to L.\n",
        "ii. WAP to remove 10 and 30 from L.\n",
        "iii. WAP to sort L in ascending order.\n",
        "iv. WAP to sort L in descending order."
      ],
      "metadata": {
        "id": "UHTIZOlXY0Qm"
      }
    },
    {
      "cell_type": "code",
      "source": [
        "#QUESTION 1\n",
        "L=[10, 20, 30, 40, 50, 60, 70, 80]\n",
        "L.append(200)\n",
        "L.append(300)\n",
        "print(\"After adding 200 and 300:\", L)\n",
        "L.remove(10)\n",
        "L.remove(30)\n",
        "print(\"After removing 10 and 30:\", L)\n",
        "L.sort()\n",
        "print(\"Sorted in ascending order:\", L)\n",
        "L.sort(reverse=True)\n",
        "print(\"Sorted in descending order:\", L)"
      ],
      "metadata": {
        "colab": {
          "base_uri": "https://localhost:8080/"
        },
        "id": "hfHacrzyUJbu",
        "outputId": "0459b3eb-b450-4769-a732-7612de5407cb"
      },
      "execution_count": null,
      "outputs": [
        {
          "output_type": "stream",
          "name": "stdout",
          "text": [
            "After adding 200 and 300: [10, 20, 30, 40, 50, 60, 70, 80, 200, 300]\n",
            "After removing 10 and 30: [20, 40, 50, 60, 70, 80, 200, 300]\n",
            "Sorted in ascending order: [20, 40, 50, 60, 70, 80, 200, 300]\n",
            "Sorted in descending order: [300, 200, 80, 70, 60, 50, 40, 20]\n"
          ]
        }
      ]
    },
    {
      "cell_type": "markdown",
      "source": [
        "2. Create a tuple of marks scored as scores = (45, 89.5, 76, 45.4, 89, 92, 58, 45) and\n",
        "perform the following operations using tuple functions:\n",
        "i. Identify the highest score and its index in the tuple.\n",
        "ii. Find the lowest score and count how many times it appears.\n",
        "iii. Reverse the tuple and return it as a list.\n",
        "iv. Check if a specific score ‘76’ (input by the user) is present in the tuple and\n",
        "print its first occurrence index, or a message saying it’s not present."
      ],
      "metadata": {
        "id": "bdo59vLxY3jy"
      }
    },
    {
      "cell_type": "code",
      "source": [
        "#QUESTION 2\n",
        "scores = (45,89.5,76,45.4,89,92,58,45)\n",
        "print('Highest score is: ',max(scores))\n",
        "print('Highest score present at index: ',scores.index(max(scores)))\n",
        "print('Lowest score is: ',min(scores))\n",
        "print('Lowest score present for these many times: ',scores.count(min(scores)))\n",
        "reversed_list = list(reversed(scores))\n",
        "print('Reversed list: ',reversed_list)\n",
        "score_to_check=76\n",
        "if score_to_check in scores:\n",
        "    print(f'{score_to_check} is present in the tuple.')\n",
        "else:\n",
        "    print(f'{score_to_check} is not present in the tuple.')"
      ],
      "metadata": {
        "colab": {
          "base_uri": "https://localhost:8080/"
        },
        "id": "E3OQsClmUXEW",
        "outputId": "d3a2223d-5133-496b-d763-ce1aaa0bf5e8"
      },
      "execution_count": null,
      "outputs": [
        {
          "output_type": "stream",
          "name": "stdout",
          "text": [
            "Highest score is:  92\n",
            "Highest score present at index:  5\n",
            "Lowest score is:  45\n",
            "Lowest score present for these many times:  2\n",
            "Reversed list:  [45, 58, 92, 89, 45.4, 76, 89.5, 45]\n",
            "76 is present in the tuple.\n"
          ]
        }
      ]
    },
    {
      "cell_type": "markdown",
      "source": [
        "3. WAP to create a list of 100 random numbers between 100 and 900. Count and print\n",
        "the:\n",
        "i. All odd numbers\n",
        "ii. All even numbers\n",
        "iii. All prime numbers"
      ],
      "metadata": {
        "id": "gyu6KBfHY6y1"
      }
    },
    {
      "cell_type": "code",
      "source": [
        "#QUESTION 3\n",
        "import random as r\n",
        "l=[]\n",
        "for i in range(100):\n",
        "  l.append(r.randint(100,900))\n",
        "even_count=0\n",
        "odd_count=0\n",
        "prime_count=0;\n",
        "print(\"All even numbers are: \")\n",
        "for item in l:\n",
        "  if item %2 == 0:\n",
        "    print(item ,end=\" \")\n",
        "    even_count=even_count+1\n",
        "print(\"\\n The total number even number are: \",even_count)\n",
        "\n",
        "print(\"\\n All odd numbers are: \")\n",
        "for item in l:\n",
        "  if item %2 == 1:\n",
        "    print(item ,end=\" \")\n",
        "    odd_count=odd_count+1\n",
        "print(\"\\n The total number odd number are: \",odd_count)\n",
        "\n",
        "print(\"\\n All prime numbers are: \")\n",
        "for item in l:\n",
        "  found=False\n",
        "  for j in range(2,item//2+1):\n",
        "    if item % j == 0:\n",
        "      found=True\n",
        "    if found==False:\n",
        "      print(item ,end=\" \")\n",
        "      prime_count=prime_count+1\n",
        "print(\"\\n The total number prime number are: \",prime_count)"
      ],
      "metadata": {
        "id": "OXnsXeZtaLbh"
      },
      "execution_count": null,
      "outputs": []
    },
    {
      "cell_type": "code",
      "source": [
        "list2 = 1, 2, 3, 4\n",
        "print(list2)\n",
        "tuple1 = (1)\n",
        "tuple2 = (1,) #tuple2 is tuple but tuple1 not tuple\n",
        "print(tuple1)\n",
        "print(tuple2)\n",
        "print(type(tuple1))\n",
        "print(type(tuple2))\n",
        "dict1 = {1: \"one\", 2: \"two\", 3: \"three\"}\n",
        "dict2 = {3: \"four\",5: \"five\",6: \"six\"}\n",
        "print(dict1)\n",
        "print(dict2)\n",
        "print(dict1 | dict2)\n",
        "print(dict1.update(dict2))"
      ],
      "metadata": {
        "colab": {
          "base_uri": "https://localhost:8080/"
        },
        "id": "7uh-BJJ6agGg",
        "outputId": "6c07c1bf-eaf7-470f-cbf8-f63cf5950c9c"
      },
      "execution_count": null,
      "outputs": [
        {
          "output_type": "stream",
          "name": "stdout",
          "text": [
            "(1, 2, 3, 4)\n",
            "1\n",
            "(1,)\n",
            "<class 'int'>\n",
            "<class 'tuple'>\n",
            "{1: 'one', 2: 'two', 3: 'three'}\n",
            "{3: 'four', 5: 'five', 6: 'six'}\n",
            "{1: 'one', 2: 'two', 3: 'four', 5: 'five', 6: 'six'}\n",
            "None\n"
          ]
        }
      ]
    },
    {
      "cell_type": "markdown",
      "source": [
        "4. Consider the following two sets, A and B, represenƟng scores of two teams in mulƟple\n",
        "matches. A = {34, 56, 78, 90} and B = {78, 45, 90, 23}\n",
        "WAP to perform the following operaƟons using set funcƟons:\n",
        "i. Find the unique scores achieved by both teams (union of sets).\n",
        "ii. IdenƟfy the scores that are common to both teams (intersecƟon of sets).\n",
        "iii. Find the scores that are exclusive to each team (symmetric difference).\n",
        "iv. Check if the scores of team A are a subset of team B, and if team B's scores are\n",
        "a superset of team A.\n",
        "v. Remove a specific score X (input by the user) from set A if it exists. If not, print\n",
        "a message saying it is not present."
      ],
      "metadata": {
        "id": "TEELl7tsY-AS"
      }
    },
    {
      "cell_type": "code",
      "source": [
        "#QUESTION 4\n",
        "A={34,56,78,90}\n",
        "B={78,45,90,23}\n",
        "print(\"The unique scores achieved by both teams: \",A.union(B))\n",
        "\n",
        "print(\"The scores that are common to both teams: \",A.intersection(B))\n",
        "\n",
        "print(\"The scores that are exclusive to each team: \",A^B)\n",
        "\n",
        "if A.issubset(B):\n",
        "  print(\"Set A is subset of the set B\")\n",
        "else:\n",
        "  print(\"Set A is not the subset of the set B\")\n",
        "if B.issuperset(A):\n",
        "  print(\"Set B is superset of the set A\")\n",
        "else:\n",
        "  print(\"Set B is not the superset of the set A\")\n",
        "\n",
        "searching_ele=int(input(\"Enter the search element: \"))\n",
        "if searching_ele in A:\n",
        "  print(\"The search element is present in the set\")\n",
        "else:\n",
        "  print(\"The search element is not present in the set\")"
      ],
      "metadata": {
        "colab": {
          "base_uri": "https://localhost:8080/"
        },
        "id": "6tzj7n5uXVIa",
        "outputId": "3acf25df-4743-4dbf-fc91-76ef0a28a785"
      },
      "execution_count": 1,
      "outputs": [
        {
          "output_type": "stream",
          "name": "stdout",
          "text": [
            "The unique scores achieved by both teams:  {34, 45, 78, 23, 56, 90}\n",
            "The scores that are common to both teams:  {90, 78}\n",
            "The scores that are exclusive to each team:  {34, 45, 23, 56}\n",
            "Set A is not the subset of the set B\n",
            "Set B is not the superset of the set A\n",
            "Enter the search element: 45\n",
            "The search element is not present in the set\n"
          ]
        }
      ]
    },
    {
      "cell_type": "markdown",
      "source": [
        "5. Write a program to rename a key city to a locaƟon in the following dictionary."
      ],
      "metadata": {
        "id": "f5yzc1kXZBJW"
      }
    },
    {
      "cell_type": "code",
      "source": [
        "#QUESTION 5\n",
        "sample_dict={\n",
        "    \"name\":\"Kelly\",\n",
        "    \"age\":25,\n",
        "    \"salary\":8000,\n",
        "    \"city\":\"New York\"\n",
        "}\n",
        "print(\"The original dictionary is: \")\n",
        "print(sample_dict)\n",
        "\n",
        "sample_dict.pop(\"city\")\n",
        "sample_dict[\"location\"]=\"New York\"\n",
        "print()\n",
        "print(\"After updation the new dictionary is : \")\n",
        "print (sample_dict)"
      ],
      "metadata": {
        "colab": {
          "base_uri": "https://localhost:8080/"
        },
        "id": "H5OBLjZDYLWs",
        "outputId": "b42e8f94-5ad8-48da-a581-c24264231ac4"
      },
      "execution_count": 5,
      "outputs": [
        {
          "output_type": "stream",
          "name": "stdout",
          "text": [
            "The original dictionary is: \n",
            "{'name': 'Kelly', 'age': 25, 'salary': 8000, 'city': 'New York'}\n",
            "\n",
            "After updation the new dictionary is : \n",
            "{'name': 'Kelly', 'age': 25, 'salary': 8000, 'location': 'New York'}\n"
          ]
        }
      ]
    }
  ]
}