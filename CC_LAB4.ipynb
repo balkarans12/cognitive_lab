{
  "nbformat": 4,
  "nbformat_minor": 0,
  "metadata": {
    "colab": {
      "provenance": []
    },
    "kernelspec": {
      "name": "python3",
      "display_name": "Python 3"
    },
    "language_info": {
      "name": "python"
    }
  },
  "cells": [
    {
      "cell_type": "code",
      "execution_count": null,
      "metadata": {
        "colab": {
          "base_uri": "https://localhost:8080/"
        },
        "id": "3i-gT2gRUd1a",
        "outputId": "2211baf2-3d68-4adc-c6ae-e73693c311ec"
      },
      "outputs": [
        {
          "output_type": "stream",
          "name": "stdout",
          "text": [
            "After adding 2 to all elements: [3 4 5 6 7]\n",
            "After multiplying 3 with all elements: [ 3  6  9 12 15]\n",
            "After dividing each element by 2: [0.5 1.  1.5 2.  2.5]\n"
          ]
        }
      ],
      "source": [
        "import numpy as np\n",
        "\n",
        "arr = np.array([1, 2, 3, 4, 5])\n",
        "\n",
        "arr_add = arr + 2\n",
        "print(\"After adding 2 to all elements:\", arr_add)\n",
        "\n",
        "arr_multiply = arr * 3\n",
        "print(\"After multiplying 3 with all elements:\", arr_multiply)\n",
        "\n",
        "arr_divide = arr / 2\n",
        "print(\"After dividing each element by 2:\", arr_divide)\n"
      ]
    },
    {
      "cell_type": "code",
      "source": [
        "arr = np.array([1, 2, 3, 6, 4, 5])\n",
        "reversed_arr = arr[::-1]\n",
        "print(reversed_arr)\n",
        "\n",
        "x = np.array([1,2,3,4,5,1,2,1,1,1])\n",
        "unique_elements = np.unique(x)\n",
        "print(unique_elements)\n",
        "\n",
        "unique_values, counts = np.unique(x, return_counts=True)\n",
        "\n",
        "most_frequent_value = unique_values[np.argmax(counts)]\n",
        "\n",
        "indices = np.where(x == most_frequent_value)[0]\n",
        "\n",
        "print(f\"Most frequent value: {most_frequent_value}\")\n",
        "print(f\"Indices: {indices}\")\n",
        "\n",
        "y = np.array([1, 1, 1, 2, 3, 4, 2, 4, 3, 3])\n",
        "\n",
        "unique_values_y, counts_y = np.unique(y, return_counts=True)\n",
        "\n",
        "most_frequent_value_y = unique_values_y[np.argmax(counts_y)]\n",
        "\n",
        "indices_y = np.where(y == most_frequent_value_y)[0]\n",
        "\n",
        "print(f\"Most frequent value: {most_frequent_value_y}\")\n",
        "print(f\"Indices: {indices_y}\")\n"
      ],
      "metadata": {
        "colab": {
          "base_uri": "https://localhost:8080/"
        },
        "id": "pxEG6s24VbW9",
        "outputId": "45d3cc13-b12f-48ca-858f-bf49f9804d06"
      },
      "execution_count": null,
      "outputs": [
        {
          "output_type": "stream",
          "name": "stdout",
          "text": [
            "[5 4 6 3 2 1]\n",
            "[1 2 3 4 5]\n",
            "Most frequent value: 1\n",
            "Indices: [0 5 7 8 9]\n",
            "Most frequent value: 1\n",
            "Indices: [0 1 2]\n"
          ]
        }
      ]
    },
    {
      "cell_type": "code",
      "source": [
        "arr = np.array([[10, 20, 30], [40, 50, 60], [70, 80, 90]])\n",
        "element_a = arr[0, 1]\n",
        "print(\"Element at 1st row, 2nd column:\", element_a)\n",
        "element_b = arr[2, 0]\n",
        "print(\"Element at 3rd row, 1st column:\", element_b)\n"
      ],
      "metadata": {
        "colab": {
          "base_uri": "https://localhost:8080/"
        },
        "id": "Wm4IV8HFZgLy",
        "outputId": "ce18d94e-c118-471e-c467-25356633bb0f"
      },
      "execution_count": null,
      "outputs": [
        {
          "output_type": "stream",
          "name": "stdout",
          "text": [
            "Element at 1st row, 2nd column: 20\n",
            "Element at 3rd row, 1st column: 70\n"
          ]
        }
      ]
    },
    {
      "cell_type": "code",
      "source": [
        "balkaran = np.linspace(10, 100, 25)\n",
        "\n",
        "print(\"Array:\", balkaran)\n",
        "print(\"Dimensions (ndim):\", balkaran.ndim)\n",
        "print(\"Shape:\", balkaran.shape)\n",
        "print(\"Total elements (size):\", balkaran.size)\n",
        "print(\"Data type (dtype):\", balkaran.dtype)\n",
        "print(\"Total bytes consumed (nbytes):\", balkaran.nbytes)\n",
        "transposed_array = balkaran.reshape(-1, 1)\n",
        "print(\"Transposed array using reshape():\\n\", transposed_array)\n",
        "transposed_array_T = balkaran.T\n",
        "print(\"Transposed array using .T:\\n\", transposed_array_T)\n"
      ],
      "metadata": {
        "colab": {
          "base_uri": "https://localhost:8080/"
        },
        "id": "dnGYBE3TaGMB",
        "outputId": "c56664c6-f103-40f0-e19a-17e31f75a3b0"
      },
      "execution_count": null,
      "outputs": [
        {
          "output_type": "stream",
          "name": "stdout",
          "text": [
            "Array: [ 10.    13.75  17.5   21.25  25.    28.75  32.5   36.25  40.    43.75\n",
            "  47.5   51.25  55.    58.75  62.5   66.25  70.    73.75  77.5   81.25\n",
            "  85.    88.75  92.5   96.25 100.  ]\n",
            "Dimensions (ndim): 1\n",
            "Shape: (25,)\n",
            "Total elements (size): 25\n",
            "Data type (dtype): float64\n",
            "Total bytes consumed (nbytes): 200\n",
            "Transposed array using reshape():\n",
            " [[ 10.  ]\n",
            " [ 13.75]\n",
            " [ 17.5 ]\n",
            " [ 21.25]\n",
            " [ 25.  ]\n",
            " [ 28.75]\n",
            " [ 32.5 ]\n",
            " [ 36.25]\n",
            " [ 40.  ]\n",
            " [ 43.75]\n",
            " [ 47.5 ]\n",
            " [ 51.25]\n",
            " [ 55.  ]\n",
            " [ 58.75]\n",
            " [ 62.5 ]\n",
            " [ 66.25]\n",
            " [ 70.  ]\n",
            " [ 73.75]\n",
            " [ 77.5 ]\n",
            " [ 81.25]\n",
            " [ 85.  ]\n",
            " [ 88.75]\n",
            " [ 92.5 ]\n",
            " [ 96.25]\n",
            " [100.  ]]\n",
            "Transposed array using .T:\n",
            " [ 10.    13.75  17.5   21.25  25.    28.75  32.5   36.25  40.    43.75\n",
            "  47.5   51.25  55.    58.75  62.5   66.25  70.    73.75  77.5   81.25\n",
            "  85.    88.75  92.5   96.25 100.  ]\n"
          ]
        }
      ]
    },
    {
      "cell_type": "code",
      "source": [
        "balkarans = np.array([[10, 20, 30, 40],\n",
        "                      [50, 60, 70, 80],\n",
        "                      [90, 15, 20, 35]])\n",
        "\n",
        "mean_value = np.mean(balkarans)\n",
        "median_value = np.median(balkarans)\n",
        "max_value = np.max(balkarans)\n",
        "min_value = np.min(balkarans)\n",
        "unique_elements = np.unique(balkarans)\n",
        "\n",
        "print(f\"Mean: {mean_value}\")\n",
        "print(f\"Median: {median_value}\")\n",
        "print(f\"Max: {max_value}\")\n",
        "print(f\"Min: {min_value}\")\n",
        "print(f\"Unique elements: {unique_elements}\")\n",
        "\n",
        "reshaped_balkarans = balkarans.reshape(4, 3)\n",
        "print(f\"Reshaped array (4 rows, 3 columns):\\n{reshaped_balkarans}\")\n",
        "\n",
        "resized_balkarans = np.resize(balkarans, (2, 3))\n",
        "print(f\"Resized array (2 rows, 3 columns):\\n{resized_balkarans}\")\n"
      ],
      "metadata": {
        "colab": {
          "base_uri": "https://localhost:8080/"
        },
        "id": "YVDclmBVbhxA",
        "outputId": "ed5294fb-7e9d-4c64-ba78-ee4e656e6d56"
      },
      "execution_count": null,
      "outputs": [
        {
          "output_type": "stream",
          "name": "stdout",
          "text": [
            "Mean: 43.333333333333336\n",
            "Median: 37.5\n",
            "Max: 90\n",
            "Min: 10\n",
            "Unique elements: [10 15 20 30 35 40 50 60 70 80 90]\n",
            "Reshaped array (4 rows, 3 columns):\n",
            "[[10 20 30]\n",
            " [40 50 60]\n",
            " [70 80 90]\n",
            " [15 20 35]]\n",
            "Resized array (2 rows, 3 columns):\n",
            "[[10 20 30]\n",
            " [40 50 60]]\n"
          ]
        }
      ]
    },
    {
      "cell_type": "code",
      "source": [
        "import numpy as np\n",
        "\n",
        "ucs420_balkaran = np.array([[10, 20, 30, 40], [50, 60, 70, 80], [90, 15, 20, 35]])\n",
        "\n",
        "mean_val = np.mean(ucs420_balkaran)\n",
        "median_val = np.median(ucs420_balkaran)\n",
        "max_val = np.max(ucs420_balkaran)\n",
        "min_val = np.min(ucs420_balkaran)\n",
        "unique_elements = np.unique(ucs420_balkaran)\n",
        "\n",
        "reshaped_ucs420_balkaran = ucs420_balkaran.reshape(4, 3)\n",
        "\n",
        "resized_ucs420_balkaran = np.resize(ucs420_balkaran, (2, 3))\n",
        "\n",
        "print(\"Mean:\", mean_val)\n",
        "print(\"Median:\", median_val)\n",
        "print(\"Max:\", max_val)\n",
        "print(\"Min:\", min_val)\n",
        "print(\"Unique Elements:\", unique_elements)\n",
        "print(\"Reshaped Array:\\n\", reshaped_ucs420_balkaran)\n",
        "print(\"Resized Array:\\n\", resized_ucs420_balkaran)\n"
      ],
      "metadata": {
        "colab": {
          "base_uri": "https://localhost:8080/"
        },
        "id": "BFNemw9IOLcM",
        "outputId": "c86e6677-346a-40c2-d805-b61c6c7034e0"
      },
      "execution_count": 2,
      "outputs": [
        {
          "output_type": "stream",
          "name": "stdout",
          "text": [
            "Mean: 43.333333333333336\n",
            "Median: 37.5\n",
            "Max: 90\n",
            "Min: 10\n",
            "Unique Elements: [10 15 20 30 35 40 50 60 70 80 90]\n",
            "Reshaped Array:\n",
            " [[10 20 30]\n",
            " [40 50 60]\n",
            " [70 80 90]\n",
            " [15 20 35]]\n",
            "Resized Array:\n",
            " [[10 20 30]\n",
            " [40 50 60]]\n"
          ]
        }
      ]
    }
  ]
}